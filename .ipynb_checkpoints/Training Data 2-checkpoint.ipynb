{
 "metadata": {
  "name": "",
  "signature": "sha256:a9ea43767262bd01668883a0121fcd2d7da189b382ec70b9bb231c6afb37d87f"
 },
 "nbformat": 3,
 "nbformat_minor": 0,
 "worksheets": [
  {
   "cells": [
    {
     "cell_type": "code",
     "collapsed": false,
     "input": [
      "from __future__ import division\n",
      "import numpy as np\n",
      "import pandas as pd\n",
      "import matplotlib.pyplot as plt\n",
      "import png\n",
      "import csv\n",
      "from scipy.integrate import ode\n",
      "\n",
      "%matplotlib inline"
     ],
     "language": "python",
     "metadata": {},
     "outputs": [],
     "prompt_number": 7
    },
    {
     "cell_type": "code",
     "collapsed": false,
     "input": [
      "#define some global variables for the arm \n",
      "I = 1 # moment of inertia for arm about its end point\n",
      "l = 64 # this is the length of arm\n"
     ],
     "language": "python",
     "metadata": {},
     "outputs": [],
     "prompt_number": 8
    },
    {
     "cell_type": "code",
     "collapsed": false,
     "input": [
      "#lets only consider simple one joint arm for the moment\n",
      "def forward_dynamics(Torques,t):\n",
      "    \"\"\" Args: Torques - a 2d array of forces and torques of size [num of forces * length of time]\n",
      "        Returns: Accel - a 2d array of accelerations of size [num of degrees of motion * length of time]\n",
      "    \"\"\"\n",
      "    #use the torques to find the thetas generated over a period of time\n",
      "    #there are four systems of equations that need to be numerically integrated in order to obtain teh correct thetas\n",
      "    #def f(t,y,arg1,arg2):\n",
      "        #y_prime = [y[1],arg1/I,y[3],arg2/I]\n",
      "        #return y_prime\n",
      "    #set initial displacements and angular velocities to be zero\n",
      "    #y0 = [0,0,0,0]\n",
      "    # = ode(f).set_integrator('zvode', method='bdf')\n",
      "    #i = 0\n",
      "    #t0 = 0\n",
      "    #dt = 0.005\n",
      "    #r.set_initial_value(y0, t0).set_f_params(Torques[0,i],Torques[1,i])\n",
      "    #while r.successful() and r.t < t1:\n",
      "        #i += 1\n",
      "        #r.set_f_params(Torques[0,i],Torques[1,i])\n",
      "        #print(r.t, r.integrate(r.t+dt))\n",
      "    states = np.multiply(Torques,t**2)/(2*I)\n",
      "    return states"
     ],
     "language": "python",
     "metadata": {},
     "outputs": [],
     "prompt_number": 16
    },
    {
     "cell_type": "code",
     "collapsed": false,
     "input": [
      "def forward_kinematics(state):\n",
      "    \"\"\" Args: State -  a 2d array of positions of size [num of degrees of motion * length of time]\n",
      "        Returns: Effector_Position - a list of tuples consisting of (x,y) position of arm effector and with number of entries \n",
      "                                 equal to the length of time being considered.\n",
      "    \"\"\"\n",
      "    #use the general two link arm with theta1 and theta2\n",
      "    theta_1 = state[0,:]\n",
      "    theta_2 = state[1,:]\n",
      "    x = l*(np.cos(theta_1) + np.cos(theta_1 + theta_2))\n",
      "    y = l*(np.sin(theta_1) + np.sin(theta_1 + theta_2))\n",
      "    Effector_position = zip(x,y)\n",
      "    return Effector_position"
     ],
     "language": "python",
     "metadata": {},
     "outputs": [],
     "prompt_number": 10
    },
    {
     "cell_type": "code",
     "collapsed": false,
     "input": [
      "def inverse_kinematics(Effector_position):\n",
      "    \"\"\" Args: Effector_Position - a list of tuples consisting of (x,y) position of arm effector and with number of entries \n",
      "                                 equal to the length of time being considered.\n",
      "        Returns: State -  a 2d array of positions of size [num of degrees of motion * length of time]\n",
      "    \"\"\"\n",
      "    #given x-y cartesian coordinates is it possible to obtain the values of theta and phi that correspond to the end effector position\n",
      "    theta_1 = [0] * len(Effector_position)\n",
      "    theta_2 = [0] * len(Effector_position)\n",
      "    for i,pos in enumerate(Effector_position):\n",
      "        x = pos[0]\n",
      "        y = pos[1]\n",
      "        theta_2[i] = np.arccos((x**2 + y**2 - 2*(l**2))/(2*(l**2)))\n",
      "        k1 = l*(1 + np.cos(theta_2[i]))\n",
      "        k2 = l*np.sin(theta_2[i])\n",
      "        theta_1[i] = np.arctan(y/x) - np.arctan(k2/k1)\n",
      "    print np.shape(theta_1)\n",
      "    states = np.vstack((theta_1,theta_2))\n",
      "    return states\n",
      "        "
     ],
     "language": "python",
     "metadata": {},
     "outputs": [],
     "prompt_number": 11
    },
    {
     "cell_type": "code",
     "collapsed": false,
     "input": [
      "def inverse_dynamics(states,t):\n",
      "    \"\"\" Args : Accel -  a 2d array of accelerations of size [num of degrees of motion * length of time]\n",
      "        Returns: Forces - a 2d array of forces and torques of size [num of forces * length of time]\n",
      "    \"\"\"\n",
      "    \n",
      "    #in case of 2 link arm there are only two forces to worry about call them T_phi and T_theta then using newton's laws\n",
      "    #one may obtain the inverse dynamics\n",
      "    # Assuming that the moment of inertia for the two bars is the same and that we are computing the acceleration at the bottom\n",
      "    #of each bar we may obtain the forces as follows\n",
      "    #one has to use the states signal and use it to get the torques\n",
      "    Torques = np.divide(states,t**2) * 2*I\n",
      "    return Torques"
     ],
     "language": "python",
     "metadata": {},
     "outputs": [],
     "prompt_number": 18
    },
    {
     "cell_type": "code",
     "collapsed": false,
     "input": [
      "#we need a function that generates end-effector positions for various shapes\n",
      "def draw_line(start_point,end_point,step_size):\n",
      "    tol = 0.001\n",
      "    output_array = [(start_point[0],start_point[1])]\n",
      "    #first unpack the tuples \n",
      "    end_point_x,end_point_y = end_point\n",
      "    start_point_x,start_point_y = start_point\n",
      "    #initialize current point\n",
      "    current_point_x,current_point_y = start_point_x,start_point_y\n",
      "    if end_point_x == start_point_x:\n",
      "        if end_point_y > start_point_y:\n",
      "            output_array_y = range(start_point_y,end_point_y + 1)\n",
      "            output_array_x = [start_point_x] * len(output_array_y)\n",
      "            #array[start_point_x,start_point_y:end_point_y+1] = 255\n",
      "        else:\n",
      "            output_array_y = range(end_point_y,start_point_y + 1)\n",
      "            output_array_x = [start_point_x] * len(output_array_y)\n",
      "           # array[end_point_x,end_point_y:start_point_y+1] = 255\n",
      "        return zip(output_array_x,output_array_y)\n",
      "    m = (end_point_y - start_point_y)/(end_point_x - start_point_x)\n",
      "    c = start_point_y - m*start_point_x\n",
      "    while abs(current_point_x - end_point_x) > tol:\n",
      "        current_point_y = np.round((m*current_point_x + c))\n",
      "        #array[np.round(current_point_x),current_point_y] = 255\n",
      "        if start_point[0] < end_point[0]:\n",
      "            current_point_x += step_size\n",
      "        else:\n",
      "            current_point_x -= step_size\n",
      "        if np.round(current_point_x) != output_array[-1][0] or np.round(current_point_y) != output_array[-1][1]:\n",
      "            output_array.append((np.round(current_point_x), np.round(current_point_y)))\n",
      "    return output_array   "
     ],
     "language": "python",
     "metadata": {},
     "outputs": [],
     "prompt_number": 30
    },
    {
     "cell_type": "code",
     "collapsed": false,
     "input": [
      "def generate_image(array,name):\n",
      "    save_name = \"Training_Images/\" + name + \".png\"\n",
      "    png.from_array(array.tolist(),'L').save(save_name)\n",
      "    img = plt.imread(save_name)\n",
      "    return plt.imshow(img,cmap ='Greys_r')"
     ],
     "language": "python",
     "metadata": {},
     "outputs": [],
     "prompt_number": 25
    },
    {
     "cell_type": "code",
     "collapsed": false,
     "input": [
      "def check(control_vector,start_point):\n",
      "    prev_point = start_point\n",
      "    vector_list = []\n",
      "    angle = 90\n",
      "    j = 0\n",
      "    for control in control_vector:\n",
      "        current_point = (int(start_point[0] + control[0]),int(start_point[1] + control[1]))\n",
      "        vector = np.subtract(current_point,start_point)\n",
      "        vector_list.append(vector)\n",
      "        if len(vector_list) > 1:\n",
      "            angle = np.arccos(np.dot(vector_list[j],vector_list[j+1])/(np.linalg.norm(vector_list[j+1])*np.linalg.norm(vector_list[j])))* 360/(2*np.pi)\n",
      "            j += 1\n",
      "        if abs(current_point[0]) > 63 or abs(current_point[1]) > 63 or current_point[0] < 0 or current_point[1] < 0 or abs(angle) < 25 or abs(angle) > 155 :\n",
      "            return False\n",
      "        start_point = current_point\n",
      "    return True"
     ],
     "language": "python",
     "metadata": {},
     "outputs": [],
     "prompt_number": 36
    },
    {
     "cell_type": "code",
     "collapsed": false,
     "input": [
      "def draw_figure(array):\n",
      "    #this function should take the end effector position and draw on a 64 by 64 grid\n",
      "    grid = np.zeros((64,64))\n",
      "    for pos in array:\n",
      "        grid[pos[0],pos[1]] = 255\n",
      "    generate_image(grid,\"test\")"
     ],
     "language": "python",
     "metadata": {},
     "outputs": [],
     "prompt_number": 26
    },
    {
     "cell_type": "code",
     "collapsed": false,
     "input": [
      "def sample_truncated_normal(mu,std,threshold,dim):\n",
      "    sample = std*np.random.randn(dim) + mu\n",
      "    if np.sum(np.logical_or(abs(sample) > threshold , abs(sample) < 5)) > 0:\n",
      "        return sample_truncated_normal(mu,std,threshold,dim)\n",
      "    else:\n",
      "        return sample"
     ],
     "language": "python",
     "metadata": {},
     "outputs": [],
     "prompt_number": 38
    },
    {
     "cell_type": "code",
     "collapsed": false,
     "input": [
      "def control_vector(shape):\n",
      "    if shape == \"Square\":\n",
      "        d = np.floor(sample_truncated_normal(9,10,30,1))[0]\n",
      "        control_vector = [(-d,0),(0,d),(d,0),(0,-d)]\n",
      "        return control_vector\n",
      "    if shape == \"Triangle\":\n",
      "        del_1 = np.floor(sample_truncated_normal(10,10,40,2))\n",
      "        del_2 = np.floor(sample_truncated_normal(10,10,40,2))\n",
      "        del_3 = -(del_1 + del_2)\n",
      "        control_vector = [del_1,del_2,del_3]\n",
      "        return control_vector\n",
      "    if shape == \"Rectangle\":\n",
      "        d = np.floor(sample_truncated_normal(9,10,30,2))\n",
      "        control_vector = [(-d[0],0),(0,d[1]),(d[0],0),(0,-d[1])]\n",
      "        return control_vector"
     ],
     "language": "python",
     "metadata": {},
     "outputs": [],
     "prompt_number": 71
    },
    {
     "cell_type": "code",
     "collapsed": false,
     "input": [
      "def generate_end_position(shape):\n",
      "    std = 6\n",
      "    mu = 32\n",
      "    i = 0\n",
      "    pos_array = []\n",
      "    start_point = np.round(std*np.random.randn(2) + mu)\n",
      "    control = control_vector(shape)\n",
      "    if check(control,start_point):\n",
      "        for point in control:\n",
      "            end_point = (int(start_point[0] + point[0]),int(start_point[1] + point[1]))\n",
      "            pos_array.extend(draw_line((start_point[0],start_point[1]),end_point,0.001))\n",
      "            start_point = end_point\n",
      "        draw_figure(pos_array)\n",
      "    return pos_array\n"
     ],
     "language": "python",
     "metadata": {},
     "outputs": [],
     "prompt_number": 81
    },
    {
     "cell_type": "code",
     "collapsed": false,
     "input": [
      "array = generate_end_position(\"Square\")"
     ],
     "language": "python",
     "metadata": {},
     "outputs": [
      {
       "metadata": {},
       "output_type": "display_data",
       "png": "[encoded data removed]",
       "text": [
        "<matplotlib.figure.Figure at 0x7f02271d1950>"
       ]
      }
     ],
     "prompt_number": 78
    },
    {
     "cell_type": "code",
     "collapsed": false,
     "input": [
      "#generate a line \n",
      "x = np.linspace(0.1,1.,num = 50)\n",
      "#define a time array \n",
      "t1 = 10\n",
      "dt = 0.05\n",
      "\n",
      "y = 3*(x**2)\n",
      "plt.figure()\n",
      "#plt.plot(x,y,label = 'Original Data')\n",
      "effector_pos = generate_end_position(\"Square\")\n",
      "print effector_pos\n",
      "#use the generated data to figure out the state of the arm that lead to the position of the end effector\n",
      "state = inverse_kinematics(effector_pos)\n",
      "time_array = np.linspace(0,t1,num = len(effector_pos))\n",
      "Torques = inverse_dynamics(state,time_array)\n",
      "state = forward_dynamics(Torques,time_array)\n",
      "print np.shape(state)\n",
      "effect = forward_kinematics(state)\n",
      "#now unpack the end effector state and plot it\n",
      "temp = [list(t) for t in zip(*effect)]\n",
      "plt.plot(temp[1],temp[0], label = 'Regenerated Data')\n",
      "plt.legend()\n",
      "\n"
     ],
     "language": "python",
     "metadata": {},
     "outputs": [
      {
       "output_type": "stream",
       "stream": "stdout",
       "text": [
        "[(33.0, 38.0), (32.0, 38.0), (31.0, 38.0), (30.0, 38.0), (29.0, 38.0), (28.0, 38.0), (27.0, 38.0), (26.0, 38.0), (25.0, 38.0), (24.0, 38.0), (23.0, 38.0), (22.0, 38.0), (21.0, 38.0), (21, 38), (21, 39), (21, 40), (21, 41), (21, 42), (21, 43), (21, 44), (21, 45), (21, 46), (21, 47), (21, 48), (21, 49), (21, 50), (21, 50), (22.0, 50.0), (23.0, 50.0), (24.0, 50.0), (25.0, 50.0), (26.0, 50.0), (27.0, 50.0), (28.0, 50.0), (29.0, 50.0), (30.0, 50.0), (31.0, 50.0), (32.0, 50.0), (33.0, 50.0), (33, 38), (33, 39), (33, 40), (33, 41), (33, 42), (33, 43), (33, 44), (33, 45), (33, 46), (33, 47), (33, 48), (33, 49), (33, 50)]\n",
        "(52,)\n",
        "(2, 52)\n"
       ]
      },
      {
       "metadata": {},
       "output_type": "pyout",
       "prompt_number": 88,
       "text": [
        "<matplotlib.legend.Legend at 0x7f0226ce4110>"
       ]
      },
      {
       "metadata": {},
       "output_type": "display_data",
       "png": "[encoded data removed]",
       "text": [
        "<matplotlib.figure.Figure at 0x7f0226ce4150>"
       ]
      }
     ],
     "prompt_number": 88
    }
   ],
   "metadata": {}
  }
 ]
}
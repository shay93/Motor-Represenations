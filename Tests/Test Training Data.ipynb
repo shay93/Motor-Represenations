{
 "metadata": {
  "name": "",
  "signature": "sha256:6eafd5d6b02ef7da17ab115f03f6cfe6b1d7de4fb230c6edd1d5b087a557b64a"
 },
 "nbformat": 3,
 "nbformat_minor": 0,
 "worksheets": [
  {
   "cells": [
    {
     "cell_type": "code",
     "collapsed": false,
     "input": [
      "import numpy as np\n",
      "import matplotlib.pyplot as plt\n",
      "import pickle\n",
      "import training_tools as tt\n",
      "\n",
      "\n",
      "%matplotlib inline"
     ],
     "language": "python",
     "metadata": {},
     "outputs": [],
     "prompt_number": 1
    },
    {
     "cell_type": "code",
     "collapsed": false,
     "input": [
      "#specify the paths where the training data lies\n",
      "arm1_path = \"/home/shayaan/Research/Redwood/Motor-Represenations/Training_Data_First_Arm/\"\n",
      "arm2_path = \"/home/shayaan/Research/Redwood/Motor-Represenations/T\""
     ],
     "language": "python",
     "metadata": {},
     "outputs": [],
     "prompt_number": 2
    },
    {
     "cell_type": "code",
     "collapsed": false,
     "input": [
      "file_list = ['saved_state_Square_50.npy','saved_state_Rectangle50.npy','saved_state_Triangle50.npy']\n",
      "myfile = open(arm1_path + file_list[0],'rb')\n",
      "square_state_list = pickle.load(myfile)\n",
      "print len(square_state_list)"
     ],
     "language": "python",
     "metadata": {},
     "outputs": [
      {
       "output_type": "stream",
       "stream": "stdout",
       "text": [
        "1000\n"
       ]
      }
     ],
     "prompt_number": 5
    },
    {
     "cell_type": "code",
     "collapsed": false,
     "input": [
      "#initialize an arm to get the inverse mapping\n",
      "arm1 = tt.two_link_arm(50)\n",
      "#get the effector position for the forward kinematics\n",
      "pos_list = arm1.forward_kinematics(square_state_list[2])\n",
      "#intialize a grid to draw the output shapes\n",
      "my_grid = tt.grid(\"test\",\"/home/shayaan/Research/Redwood/Motor-Represenations/Tests/\")\n",
      "#draw the figure on the grid\n",
      "my_grid.draw_figure(pos_list)\n",
      "my_grid.save_image()\n",
      "my_grid.show_image()"
     ],
     "language": "python",
     "metadata": {},
     "outputs": [
      {
       "metadata": {},
       "output_type": "pyout",
       "prompt_number": 8,
       "text": [
        "<matplotlib.image.AxesImage at 0x7faa4b66d950>"
       ]
      },
      {
       "metadata": {},
       "output_type": "display_data",
       "png": "[encoded data removed]",
       "text": [
        "<matplotlib.figure.Figure at 0x7faa4b70f310>"
       ]
      }
     ],
     "prompt_number": 8
    }
   ],
   "metadata": {}
  }
 ]
}
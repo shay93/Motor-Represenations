{
 "metadata": {
  "name": "",
  "signature": "sha256:caf8bfa3b011af3fa5dcb8e3ddf7ef99d679ddfd77093597ed7aa043f8a8305f"
 },
 "nbformat": 3,
 "nbformat_minor": 0,
 "worksheets": [
  {
   "cells": [
    {
     "cell_type": "code",
     "collapsed": false,
     "input": [
      "import pickle\n",
      "import numpy as np\n",
      "import matplotlib.pyplot as plt\n",
      "import training_tools as tt\n",
      "\n",
      "%matplotlib inline"
     ],
     "language": "python",
     "metadata": {},
     "outputs": [],
     "prompt_number": 1
    },
    {
     "cell_type": "code",
     "collapsed": false,
     "input": [
      "#initialize the 3dof arm\n",
      "link_length = 30\n",
      "three_DOF_arm = tt.three_link_arm(link_length)"
     ],
     "language": "python",
     "metadata": {},
     "outputs": [],
     "prompt_number": 2
    },
    {
     "cell_type": "code",
     "collapsed": false,
     "input": [
      "#load the data for the square images for the three link arm\n",
      "square_seq_path = \"/home/shayaan/Research/Redwood/Motor-Represenations/Training_Data_3DOF_Arm/Square.npy\"\n",
      "\n",
      "with open(square_seq_path) as f:\n",
      "    joint_seq_list = pickle.load(f)\n",
      "    "
     ],
     "language": "python",
     "metadata": {},
     "outputs": [],
     "prompt_number": 3
    },
    {
     "cell_type": "code",
     "collapsed": false,
     "input": [
      "#now use an entry in the list to check whether this has worked or not\n",
      "joint_seq = joint_seq_list[0]\n",
      "effector_pos = three_DOF_arm.forward_kinematics(joint_seq)\n",
      "#intialize a grid\n",
      "my_grid = tt.grid(\"test\",\"/home/shayaan/Research/Redwood/Motor-Represenations/Training_Data_3DOF_Arm/\")\n",
      "my_grid.draw_figure(effector_pos)\n",
      "my_grid.save_image()\n",
      "my_grid.show_image()"
     ],
     "language": "python",
     "metadata": {},
     "outputs": [
      {
       "output_type": "stream",
       "stream": "stderr",
       "text": [
        "training_tools.py:21: VisibleDeprecationWarning: using a non-integer number instead of an integer will result in an error in the future\n",
        "  self.grid[pos[0] % 64,pos[1] % 64] = 255\n"
       ]
      },
      {
       "metadata": {},
       "output_type": "pyout",
       "prompt_number": 4,
       "text": [
        "<matplotlib.image.AxesImage at 0x7f2433e7a590>"
       ]
      },
      {
       "metadata": {},
       "output_type": "display_data",
       "png": "[encoded data removed]",
       "text": [
        "<matplotlib.figure.Figure at 0x7f2433e71d90>"
       ]
      }
     ],
     "prompt_number": 4
    }
   ],
   "metadata": {}
  }
 ]
}
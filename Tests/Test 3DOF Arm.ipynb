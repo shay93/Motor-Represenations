{
 "metadata": {
  "name": "",
  "signature": "sha256:823651bc5eb290864a49d1a5a7c8412f4a38369c1650436dc4c745a1528ba18b"
 },
 "nbformat": 3,
 "nbformat_minor": 0,
 "worksheets": [
  {
   "cells": [
    {
     "cell_type": "code",
     "collapsed": false,
     "input": [
      "import pickle\n",
      "import numpy as np\n",
      "import matplotlib.pyplot as plt\n",
      "import training_tools as tt\n",
      "\n",
      "%matplotlib inline"
     ],
     "language": "python",
     "metadata": {},
     "outputs": [],
     "prompt_number": 1
    },
    {
     "cell_type": "code",
     "collapsed": false,
     "input": [
      "#initialize the 3dof arm\n",
      "link_length = 60\n",
      "three_DOF_arm = tt.three_link_arm(link_length)"
     ],
     "language": "python",
     "metadata": {},
     "outputs": [],
     "prompt_number": 24
    },
    {
     "cell_type": "code",
     "collapsed": false,
     "input": [
      "#load the data for the square images for the three link arm\n",
      "square_seq_path = \"/home/shayaan/Research/Redwood/Motor-Represenations/Training_Data_3DOF_Arm/Triangle.npy\"\n",
      "\n",
      "with open(square_seq_path) as f:\n",
      "    joint_seq_list = pickle.load(f)\n",
      "    "
     ],
     "language": "python",
     "metadata": {},
     "outputs": [],
     "prompt_number": 25
    },
    {
     "cell_type": "code",
     "collapsed": false,
     "input": [
      "#now use an entry in the list to check whether this has worked or not\n",
      "joint_seq = joint_seq_list[0]\n",
      "effector_pos = three_DOF_arm.forward_kinematics(joint_seq)\n",
      "#intialize a grid\n",
      "my_grid = tt.grid(\"test\",\"/home/shayaan/Research/Redwood/Motor-Represenations/Training_Data_3DOF_Arm/\")\n",
      "my_grid.draw_figure(effector_pos)\n",
      "my_grid.save_image()\n",
      "my_grid.show_image()"
     ],
     "language": "python",
     "metadata": {},
     "outputs": [
      {
       "metadata": {},
       "output_type": "pyout",
       "prompt_number": 26,
       "text": [
        "<matplotlib.image.AxesImage at 0x7fb6ecac32d0>"
       ]
      },
      {
       "metadata": {},
       "output_type": "display_data",
       "png": "[encoded data removed]",
       "text": [
        "<matplotlib.figure.Figure at 0x7fb6ecac0b10>"
       ]
      }
     ],
     "prompt_number": 26
    },
    {
     "cell_type": "code",
     "collapsed": false,
     "input": [
      "for joint_seq in joint_seq_list:\n",
      "    if np.sum(np.isnan(joint_seq)) > 0:\n",
      "        print np.sum(np.isnan(joint_seq))"
     ],
     "language": "python",
     "metadata": {},
     "outputs": [],
     "prompt_number": 28
    }
   ],
   "metadata": {}
  }
 ]
}
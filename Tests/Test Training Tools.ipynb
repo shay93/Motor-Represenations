{
 "metadata": {
  "name": "",
  "signature": "sha256:a99630b2aecb08c28887762f2f19990713205a3a4ff6686775cede9faef578a6"
 },
 "nbformat": 3,
 "nbformat_minor": 0,
 "worksheets": [
  {
   "cells": [
    {
     "cell_type": "code",
     "collapsed": false,
     "input": [
      "import training_tools as tt\n",
      "import numpy as np\n",
      "import matplotlib.pyplot as plt\n",
      "\n",
      "%matplotlib inline"
     ],
     "language": "python",
     "metadata": {},
     "outputs": [],
     "prompt_number": 1
    },
    {
     "cell_type": "code",
     "collapsed": false,
     "input": [
      "my_shape_maker = tt.shape_maker(\"Training_Images_Test/\")\n",
      "pos_list,line_segment_list = my_shape_maker.gen_shapes(\"Triangle\",2)"
     ],
     "language": "python",
     "metadata": {},
     "outputs": [
      {
       "output_type": "stream",
       "stream": "stdout",
       "text": [
        "Start Point is [ 37.  22.]\n",
        "End Point is [ 46.  53.]\n",
        "Start Point is [ 29.  45.]\n",
        "End Point is [ 37.  22.]\n",
        "Start Point is [ 47.  52.]\n",
        "End Point is [ 28.  44.]\n",
        "Start Point is [ 36.  22.]\n",
        "End Point is [ 46.  52.]\n",
        "Start Point is [ 29.  46.]\n",
        "End Point is [ 37.  23.]\n",
        "Start Point is [ 47.  51.]\n",
        "End Point is [ 29.  44.]\n",
        "Start Point is"
       ]
      },
      {
       "output_type": "stream",
       "stream": "stdout",
       "text": [
        " [ 33.  31.]\n",
        "End Point is [ 37.  54.]\n",
        "Start Point is [ 45.  49.]\n",
        "End Point is [ 33.  31.]\n",
        "Start Point is [ 36.  53.]\n",
        "End Point is [ 46.  48.]\n",
        "Start Point is [ 34.  31.]\n",
        "End Point is [ 37.  53.]\n",
        "Start Point is [ 45.  50.]\n",
        "End Point is [ 33.  32.]\n",
        "Start Point is [ 36.  52.]\n",
        "End Point is [ 45.  48.]\n"
       ]
      }
     ],
     "prompt_number": 4
    },
    {
     "cell_type": "code",
     "collapsed": false,
     "input": [
      "print line_segment_list[0]\n",
      "print line_segment_list[1]\n",
      "print line_segment_list[2]\n",
      "print line_segment_list[3]\n",
      "\n",
      "\n",
      "    \n",
      "print pos_list"
     ],
     "language": "python",
     "metadata": {},
     "outputs": [
      {
       "output_type": "stream",
       "stream": "stdout",
       "text": [
        "[(36.0, 30.0), (35.0, 30.0), (34.0, 30.0), (33.0, 30.0), (32.0, 30.0), (31.0, 30.0), (30.0, 30.0), (29.0, 30.0), (28.0, 30.0), (27.0, 30.0), (26.0, 30.0), (25.0, 30.0), (24.0, 30.0), (23.0, 30.0), (22.0, 30.0), (21.0, 30.0), (20.0, 30.0), (19.0, 30.0), (18.0, 30.0), (17.0, 30.0)]\n",
        "[(17, 30), (17, 31), (17, 32), (17, 33), (17, 34), (17, 35), (17, 36), (17, 37), (17, 38), (17, 39), (17, 40), (17, 41)]\n",
        "[(17, 41), (18.0, 41.0), (19.0, 41.0), (20.0, 41.0), (21.0, 41.0), (22.0, 41.0), (23.0, 41.0), (24.0, 41.0), (25.0, 41.0), (26.0, 41.0), (27.0, 41.0), (28.0, 41.0), (29.0, 41.0), (30.0, 41.0), (31.0, 41.0), (32.0, 41.0), (33.0, 41.0), (34.0, 41.0), (35.0, 41.0), (36.0, 41.0)]\n",
        "[(36, 41), (36, 40), (36, 39), (36, 38), (36, 37), (36, 36), (36, 35), (36, 34), (36, 33), (36, 32), (36, 31), (36, 30)]\n",
        "[[(36.0, 30.0), (35.0, 30.0), (34.0, 30.0), (33.0, 30.0), (32.0, 30.0), (31.0, 30.0), (30.0, 30.0), (29.0, 30.0), (28.0, 30.0), (27.0, 30.0), (26.0, 30.0), (25.0, 30.0), (24.0, 30.0), (23.0, 30.0), (22.0, 30.0), (21.0, 30.0), (20.0, 30.0), (19.0, 30.0), (18.0, 30.0), (17.0, 30.0), (17, 30), (17, 31), (17, 32), (17, 33), (17, 34), (17, 35), (17, 36), (17, 37), (17, 38), (17, 39), (17, 40), (17, 41), (17, 41), (18.0, 41.0), (19.0, 41.0), (20.0, 41.0), (21.0, 41.0), (22.0, 41.0), (23.0, 41.0), (24.0, 41.0), (25.0, 41.0), (26.0, 41.0), (27.0, 41.0), (28.0, 41.0), (29.0, 41.0), (30.0, 41.0), (31.0, 41.0), (32.0, 41.0), (33.0, 41.0), (34.0, 41.0), (35.0, 41.0), (36.0, 41.0), (36, 41), (36, 40), (36, 39), (36, 38), (36, 37), (36, 36), (36, 35), (36, 34), (36, 33), (36, 32), (36, 31), (36, 30)]]\n"
       ]
      }
     ],
     "prompt_number": 3
    }
   ],
   "metadata": {}
  }
 ]
}
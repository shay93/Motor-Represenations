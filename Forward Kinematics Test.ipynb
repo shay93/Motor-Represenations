{
 "metadata": {
  "name": "",
  "signature": "sha256:758bf25c488031041dad793b6a7db2bf274290475466649685be0a6f9423a796"
 },
 "nbformat": 3,
 "nbformat_minor": 0,
 "worksheets": [
  {
   "cells": [
    {
     "cell_type": "code",
     "collapsed": false,
     "input": [
      "from __future__ import division\n",
      "import tensorflow as tf\n",
      "import numpy as np\n",
      "import pickle\n",
      "import training_tools as tt\n",
      "import matplotlib.pyplot as plt\n",
      "\n",
      "%matplotlib inline"
     ],
     "language": "python",
     "metadata": {},
     "outputs": [],
     "prompt_number": 1
    },
    {
     "cell_type": "code",
     "collapsed": false,
     "input": [
      "#generate a shape\n",
      "my_shape_maker = tt.shape_maker(\"Test/\")\n",
      "pos_list = my_shape_maker.gen_shapes(\"Square\",6)\n",
      "print len(pos_list)\n",
      "print np.shape(pos_list[0])\n",
      "#initialize an arm\n",
      "arm = tt.two_link_arm(50)"
     ],
     "language": "python",
     "metadata": {},
     "outputs": [
      {
       "output_type": "stream",
       "stream": "stdout",
       "text": [
        "6\n",
        "(32, 2)\n"
       ]
      },
      {
       "output_type": "stream",
       "stream": "stderr",
       "text": [
        "training_tools.py:21: VisibleDeprecationWarning: using a non-integer number instead of an integer will result in an error in the future\n",
        "  self.grid[pos[0],pos[1]] = 255\n"
       ]
      }
     ],
     "prompt_number": 2
    },
    {
     "cell_type": "code",
     "collapsed": false,
     "input": [
      "#initialize a grid\n",
      "my_grid = tt.grid(\"output0\",\"Test/\")\n",
      "my_grid.draw_figure(pos_list[0])\n",
      "my_grid.save_image()\n",
      "my_grid.show_image()"
     ],
     "language": "python",
     "metadata": {},
     "outputs": [
      {
       "metadata": {},
       "output_type": "pyout",
       "prompt_number": 7,
       "text": [
        "<matplotlib.image.AxesImage at 0x7faa5b0f8290>"
       ]
      },
      {
       "metadata": {},
       "output_type": "display_data",
       "png": "[encoded data removed]",
       "text": [
        "<matplotlib.figure.Figure at 0x7faa5b2c9ed0>"
       ]
      }
     ],
     "prompt_number": 7
    },
    {
     "cell_type": "code",
     "collapsed": false,
     "input": [
      "#now run inverse kinematics to get the state\n",
      "states = arm.inverse_kinematics(pos_list[0])\n",
      "print pos_list[0]\n",
      "print np.shape(states)\n",
      "new_pos_list = arm.forward_kinematics(states)\n",
      "print new_pos_list\n",
      "my_grid = tt.grid(\"output3\",\"Test/\")\n",
      "my_grid.draw_figure(new_pos_list)\n",
      "my_grid.save_image()\n",
      "my_grid.show_image()"
     ],
     "language": "python",
     "metadata": {},
     "outputs": [
      {
       "output_type": "stream",
       "stream": "stdout",
       "text": [
        "[(29.0, 39.0), (28.0, 39.0), (27.0, 39.0), (26.0, 39.0), (25.0, 39.0), (24.0, 39.0), (23.0, 39.0), (22.0, 39.0), (21.0, 39.0), (20.0, 39.0), (19.0, 39.0), (18.0, 39.0), (17.0, 39.0), (16.0, 39.0), (15.0, 39.0), (14.0, 39.0), (13.0, 39.0), (12.0, 39.0), (11.0, 39.0), (10.0, 39.0), (9.0, 39.0), (9, 39), (9, 40), (9, 41), (9, 42), (9, 43), (9, 44), (9, 45), (9, 46), (9, 47), (9, 48), (9, 49), (9, 50), (9, 51), (9, 52), (9, 53), (9, 54), (9, 55), (9, 56), (9, 57), (9, 58), (9, 59), (9, 59), (10.0, 59.0), (11.0, 59.0), (12.0, 59.0), (13.0, 59.0), (14.0, 59.0), (15.0, 59.0), (16.0, 59.0), (17.0, 59.0), (18.0, 59.0), (19.0, 59.0), (20.0, 59.0), (21.0, 59.0), (22.0, 59.0), (23.0, 59.0), (24.0, 59.0), (25.0, 59.0), (26.0, 59.0), (27.0, 59.0), (28.0, 59.0), (29.0, 59.0), (29, 39), (29, 40), (29, 41), (29, 42), (29, 43), (29, 44), (29, 45), (29, 46), (29, 47), (29, 48), (29, 49), (29, 50), (29, 51), (29, 52), (29, 53), (29, 54), (29, 55), (29, 56), (29, 57), (29, 58), (29, 59)]\n",
        "(2, 84)\n",
        "[(29.0, 39.0), (28.0, 39.0), (27.0, 39.0), (26.0, 39.0), (25.0, 39.0), (24.0, 39.0), (23.0, 39.0), (22.0, 39.0), (21.0, 39.0), (20.0, 39.0), (19.0, 39.0), (18.0, 39.0), (17.0, 39.0), (16.0, 39.0), (15.0, 39.0), (14.0, 39.0), (13.0, 39.0), (12.0, 39.0), (11.0, 39.0), (10.0, 39.0), (9.0, 39.0), (9.0, 39.0), (9.0, 40.0), (9.0, 41.0), (9.0, 42.0), (9.0, 43.0), (9.0, 44.0), (9.0, 45.0), (9.0, 46.0), (9.0, 47.0), (9.0, 48.0), (9.0, 49.0), (9.0, 50.0), (9.0, 51.0), (9.0, 52.0), (9.0, 53.0), (9.0, 54.0), (9.0, 55.0), (9.0, 56.0), (9.0, 57.0), (9.0, 58.0), (9.0, 59.0), (9.0, 59.0), (10.0, 59.0), (11.0, 59.0), (12.0, 59.0), (13.0, 59.0), (14.0, 59.0), (15.0, 59.0), (16.0, 59.0), (17.0, 59.0), (18.0, 59.0), (19.0, 59.0), (20.0, 59.0), (21.0, 59.0), (22.0, 59.0), (23.0, 59.0), (24.0, 59.0), (25.0, 59.0), (26.0, 59.0), (27.0, 59.0), (28.0, 59.0), (29.0, 59.0), (29.0, 39.0), (29.0, 40.0), (29.0, 41.0), (29.0, 42.0), (29.0, 43.0), (29.0, 44.0), (29.0, 45.0), (29.0, 46.0), (29.0, 47.0), (29.0, 48.0), (29.0, 49.0), (29.0, 50.0), (29.0, 51.0), (29.0, 52.0), (29.0, 53.0), (29.0, 54.0), (29.0, 55.0), (29.0, 56.0), (29.0, 57.0), (29.0, 58.0), (29.0, 59.0)]\n"
       ]
      },
      {
       "metadata": {},
       "output_type": "pyout",
       "prompt_number": 8,
       "text": [
        "<matplotlib.image.AxesImage at 0x7faa5b02c650>"
       ]
      },
      {
       "metadata": {},
       "output_type": "display_data",
       "png": "[encoded data removed]",
       "text": [
        "<matplotlib.figure.Figure at 0x7faa5b199f50>"
       ]
      }
     ],
     "prompt_number": 8
    },
    {
     "cell_type": "code",
     "collapsed": false,
     "input": [
      "rectangle_state_first_arm = pickle.load(open('Training_Data_First_Arm/saved_state_Rectangle_50.npy', 'rb'))\n",
      "states = rectangle_state_first_arm[3]\n",
      "new_pos_list = arm.forward_kinematics(states)\n",
      "print new_pos_list\n",
      "my_grid = tt.grid(\"output2\",\"Test/\")\n",
      "my_grid.draw_figure(new_pos_list)\n",
      "my_grid.save_image()\n",
      "my_grid.show_image()"
     ],
     "language": "python",
     "metadata": {},
     "outputs": [
      {
       "output_type": "stream",
       "stream": "stdout",
       "text": [
        "[(26.0, 32.0), (25.0, 32.0), (24.0, 32.0), (23.0, 32.0), (22.0, 32.0), (21.0, 32.0), (21.0, 22.0), (21.0, 23.0), (21.0, 24.0), (21.0, 25.0), (21.0, 26.0), (21.0, 27.0), (21.0, 28.0), (21.0, 29.0), (21.0, 30.0), (21.0, 31.0), (21.0, 32.0), (21.0, 22.0), (22.0, 22.0), (23.0, 22.0), (24.0, 22.0), (25.0, 22.0), (26.0, 22.0), (26.0, 22.0), (26.0, 23.0), (26.0, 24.0), (26.0, 25.0), (26.0, 26.0), (26.0, 27.0), (26.0, 28.0), (26.0, 29.0), (26.0, 30.0), (26.0, 31.0), (26.0, 32.0)]\n"
       ]
      },
      {
       "metadata": {},
       "output_type": "pyout",
       "prompt_number": 8,
       "text": [
        "<matplotlib.image.AxesImage at 0x7fa85dd832d0>"
       ]
      },
      {
       "metadata": {},
       "output_type": "display_data",
       "png": "[encoded data removed]",
       "text": [
        "<matplotlib.figure.Figure at 0x7fa8600f98d0>"
       ]
      }
     ],
     "prompt_number": 8
    }
   ],
   "metadata": {}
  }
 ]
}